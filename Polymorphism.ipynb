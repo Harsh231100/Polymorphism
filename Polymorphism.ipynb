{
 "cells": [
  {
   "cell_type": "markdown",
   "id": "abaab672",
   "metadata": {},
   "source": [
    "# Polymorphism"
   ]
  },
  {
   "cell_type": "markdown",
   "id": "2368ffb7",
   "metadata": {},
   "source": [
    "* The word polymorphism means having many forms. In programming, polymorphism means the same function name (but different signatures) being used for different types. The key difference is the data types and number of arguments used in function.\n",
    "* poly means many\n",
    "* overloading\n",
    "    * method overloading (vanilla python doesn't supports this)\n",
    "    * constructor overloading (vanilla python doesn't supports this)\n",
    "    * operator overloading\n",
    "* overriding\n",
    "    * method overriding\n",
    "    * constructor overriding"
   ]
  },
  {
   "cell_type": "markdown",
   "id": "fb061b49",
   "metadata": {},
   "source": [
    "![](https://media.geeksforgeeks.org/wp-content/uploads/20200907135837/poly.PNG)"
   ]
  },
  {
   "cell_type": "code",
   "execution_count": 1,
   "id": "553e44f8",
   "metadata": {},
   "outputs": [
    {
     "name": "stdout",
     "output_type": "stream",
     "text": [
      "18\n"
     ]
    }
   ],
   "source": [
    "x = \"Python Programming\"\n",
    "\n",
    "print(len(x))"
   ]
  },
  {
   "cell_type": "code",
   "execution_count": 2,
   "id": "6dd7af41",
   "metadata": {},
   "outputs": [
    {
     "name": "stdout",
     "output_type": "stream",
     "text": [
      "5\n"
     ]
    }
   ],
   "source": [
    "x = [11,22,33,44,55]\n",
    "\n",
    "print(len(x))"
   ]
  },
  {
   "cell_type": "markdown",
   "id": "9860e464",
   "metadata": {},
   "source": [
    "## Method Over-riding"
   ]
  },
  {
   "cell_type": "markdown",
   "id": "0aa0fa7b",
   "metadata": {},
   "source": [
    "* Method overriding is an ability of any object-oriented programming language that allows a subclass or child class to provide a specific implementation of a method that is already provided by one of its super-classes or parent classes. When a method in a subclass has the same name, same parameters or signature and same return type(or sub-type) as a method in its super-class, then the method in the subclass is said to override the method in the super-class.\n",
    "\n"
   ]
  },
  {
   "cell_type": "markdown",
   "id": "4bf96363",
   "metadata": {},
   "source": [
    "### Features of Method Overriding in Python\n",
    "* These are some of the key features and advantages of method overriding in Python --\n",
    "\n",
    "    * Method Overriding is derived from the concept of object oriented programming\n",
    "    * Method Overriding allows us to change the implementation of a function in the child class which is defined in the parent class.\n",
    "    * Method Overriding is a part of the inheritance mechanism\n",
    "    * Method Overriding avoids duplication of code\n",
    "    * Method Overriding also enhances the code adding some additional properties."
   ]
  },
  {
   "cell_type": "markdown",
   "id": "4fda4d11",
   "metadata": {},
   "source": [
    "![](https://media.geeksforgeeks.org/wp-content/uploads/20200114114917/overriding-in-python.png)"
   ]
  },
  {
   "cell_type": "code",
   "execution_count": 3,
   "id": "8892b842",
   "metadata": {},
   "outputs": [],
   "source": [
    "class FooClass:\n",
    "    def __init__(self,a,b):\n",
    "        self.a = a\n",
    "        self.b = b\n",
    "    def foo(self):\n",
    "        print('Hello')"
   ]
  },
  {
   "cell_type": "code",
   "execution_count": 4,
   "id": "77211fc4",
   "metadata": {},
   "outputs": [],
   "source": [
    "x = FooClass(5,10)"
   ]
  },
  {
   "cell_type": "code",
   "execution_count": 5,
   "id": "192dc6ad",
   "metadata": {},
   "outputs": [
    {
     "name": "stdout",
     "output_type": "stream",
     "text": [
      "Hello\n"
     ]
    }
   ],
   "source": [
    "x.foo()"
   ]
  },
  {
   "cell_type": "markdown",
   "id": "833fc41d",
   "metadata": {},
   "source": [
    "## Constructor and method overriding"
   ]
  },
  {
   "cell_type": "code",
   "execution_count": 6,
   "id": "87407ed7",
   "metadata": {},
   "outputs": [],
   "source": [
    "class FooClass:\n",
    "    def __init__(self,a,b):\n",
    "        self.a = a\n",
    "        self.b = b\n",
    "        \n",
    "    def __init__(self,a,b,c,d):\n",
    "        self.m = a+b\n",
    "        self.n = c-d\n",
    "        \n",
    "    def foo(self):\n",
    "        print('Hello Harsh')\n",
    "        \n",
    "    def foo(self):\n",
    "        print('Python is a Programming Language')"
   ]
  },
  {
   "cell_type": "code",
   "execution_count": 7,
   "id": "f805d937",
   "metadata": {},
   "outputs": [],
   "source": [
    "x = FooClass(4,5,5,4)"
   ]
  },
  {
   "cell_type": "code",
   "execution_count": 8,
   "id": "ea76a3fe",
   "metadata": {},
   "outputs": [
    {
     "name": "stdout",
     "output_type": "stream",
     "text": [
      "Python is a Programming Language\n"
     ]
    }
   ],
   "source": [
    "x.foo()"
   ]
  },
  {
   "cell_type": "markdown",
   "id": "13b2459a",
   "metadata": {},
   "source": [
    "## Constructor and method overriding using inheritance"
   ]
  },
  {
   "cell_type": "code",
   "execution_count": 9,
   "id": "c963aa8c",
   "metadata": {},
   "outputs": [],
   "source": [
    "class foo1(FooClass):\n",
    "    def foo(self):\n",
    "        print('holla!')"
   ]
  },
  {
   "cell_type": "code",
   "execution_count": 10,
   "id": "774f5abd",
   "metadata": {},
   "outputs": [],
   "source": [
    "x = foo1(5,4,5,4)"
   ]
  },
  {
   "cell_type": "code",
   "execution_count": 11,
   "id": "b6685aa6",
   "metadata": {},
   "outputs": [
    {
     "name": "stdout",
     "output_type": "stream",
     "text": [
      "holla!\n"
     ]
    }
   ],
   "source": [
    "x.foo()"
   ]
  },
  {
   "cell_type": "markdown",
   "id": "1ea09c44",
   "metadata": {},
   "source": [
    "## Operator Overloading"
   ]
  },
  {
   "cell_type": "markdown",
   "id": "6015539b",
   "metadata": {},
   "source": [
    "* Operator Overloading means giving extended meaning beyond their predefined operational meaning. For example operator + is used to add two integers as well as join two strings and merge two lists. It is achievable because ‘+’ operator is overloaded by int class and str class. You might have noticed that the same built-in operator or function shows different behavior for objects of different classes, this is called Operator Overloading. "
   ]
  },
  {
   "cell_type": "markdown",
   "id": "45bbb29c",
   "metadata": {},
   "source": [
    "### Advantages of Operator Overloading\n",
    "* Some advantages of operator overloading-\n",
    "\n",
    "    * Improves code readability by allowing the use of familiar operators.\n",
    "    * Ensures that objects of a class behave consistently with built-in types and other user-defined types.\n",
    "    * Makes it simpler to write code, especially for complex data types.\n",
    "    * Allows for code reuse by implementing one operator method and using it for other operators."
   ]
  },
  {
   "cell_type": "code",
   "execution_count": 12,
   "id": "6f3169a9",
   "metadata": {},
   "outputs": [],
   "source": [
    "# for multiply two list by using magical method.\n",
    "\n",
    "class Mylist:\n",
    "    def __init__(self,value):\n",
    "        self.value = value\n",
    "    \n",
    "    def __mul__(self, otherMylist):\n",
    "        return [i*j for i,j in zip(self.value, otherMylist.value)]"
   ]
  },
  {
   "cell_type": "code",
   "execution_count": 13,
   "id": "9357be9c",
   "metadata": {},
   "outputs": [],
   "source": [
    "x,y = Mylist([2,3,4]), Mylist([5,6,7])"
   ]
  },
  {
   "cell_type": "code",
   "execution_count": 14,
   "id": "d4b2b119",
   "metadata": {},
   "outputs": [
    {
     "data": {
      "text/plain": [
       "[10, 18, 28]"
      ]
     },
     "execution_count": 14,
     "metadata": {},
     "output_type": "execute_result"
    }
   ],
   "source": [
    "x*y"
   ]
  },
  {
   "cell_type": "code",
   "execution_count": 15,
   "id": "25a46c97",
   "metadata": {},
   "outputs": [],
   "source": [
    "# find which one have greater value by using magical method.\n",
    "\n",
    "class foo:\n",
    "    def __init__(self,value):\n",
    "        self.value = value\n",
    "    \n",
    "    def __ge__(self, x,y):\n",
    "        return x,y"
   ]
  },
  {
   "cell_type": "code",
   "execution_count": 16,
   "id": "20dfaa50",
   "metadata": {},
   "outputs": [],
   "source": [
    "x,y = 23,45"
   ]
  },
  {
   "cell_type": "code",
   "execution_count": 17,
   "id": "dd0410d0",
   "metadata": {},
   "outputs": [
    {
     "data": {
      "text/plain": [
       "True"
      ]
     },
     "execution_count": 17,
     "metadata": {},
     "output_type": "execute_result"
    }
   ],
   "source": [
    "x<y"
   ]
  },
  {
   "cell_type": "code",
   "execution_count": 18,
   "id": "f7257f1c",
   "metadata": {},
   "outputs": [
    {
     "data": {
      "text/plain": [
       "False"
      ]
     },
     "execution_count": 18,
     "metadata": {},
     "output_type": "execute_result"
    }
   ],
   "source": [
    "x>y"
   ]
  },
  {
   "cell_type": "markdown",
   "id": "bf1ea5cf",
   "metadata": {},
   "source": [
    "## Method Overloading"
   ]
  },
  {
   "cell_type": "markdown",
   "id": "d6d8f091",
   "metadata": {},
   "source": [
    "* Two or more methods have the same name but different numbers of parameters or different types of parameters, or both. These methods are called overloaded methods and this is called method overloading.\n",
    "#### Advantages of method overloading in Python\n",
    "* reduces complexities.\n",
    "* improves the quality of the code.\n",
    "* is also used for reusability and easy accessibility."
   ]
  },
  {
   "cell_type": "markdown",
   "id": "a975051c",
   "metadata": {},
   "source": [
    "### Multiple dispatch in Python\n"
   ]
  },
  {
   "cell_type": "markdown",
   "id": "956b7185",
   "metadata": {},
   "source": [
    "\n",
    "* Multiple dispatch (aka multimethods, generic functions, and function overloading) is choosing which among several function bodies to run, depending upon the arguments of a call."
   ]
  },
  {
   "cell_type": "code",
   "execution_count": 19,
   "id": "00f49981",
   "metadata": {},
   "outputs": [],
   "source": [
    "import multipledispatch\n",
    "from multipledispatch import dispatch"
   ]
  },
  {
   "cell_type": "code",
   "execution_count": 20,
   "id": "55641947",
   "metadata": {},
   "outputs": [],
   "source": [
    "class MyClass:\n",
    "    \n",
    "    def __init__(self, a, b):\n",
    "        self.a = a\n",
    "        self.b = b\n",
    "        \n",
    "    @dispatch(int, int)\n",
    "    def foo(self, x, y):\n",
    "        return x * y\n",
    "    \n",
    "    @dispatch(set, set)\n",
    "    def foo(self, m, n):\n",
    "        return m.union(n)\n",
    "    \n",
    "    @dispatch(str, str)\n",
    "    def foo(self, m, n):\n",
    "        return m + n\n",
    "    \n",
    "    @dispatch(int, int, int)\n",
    "    def foo(self, x,y,z):\n",
    "        return (x*y)//z\n",
    "    \n",
    "    @dispatch(list, list)\n",
    "    def foo(self, x,y):\n",
    "        return [i*j for i,j in zip(x,y)]"
   ]
  },
  {
   "cell_type": "code",
   "execution_count": 21,
   "id": "60027c2a",
   "metadata": {},
   "outputs": [],
   "source": [
    "x = MyClass(2,3)"
   ]
  },
  {
   "cell_type": "code",
   "execution_count": 22,
   "id": "b5d0f5fc",
   "metadata": {},
   "outputs": [
    {
     "data": {
      "text/plain": [
       "30"
      ]
     },
     "execution_count": 22,
     "metadata": {},
     "output_type": "execute_result"
    }
   ],
   "source": [
    "x.foo(5,6)"
   ]
  },
  {
   "cell_type": "code",
   "execution_count": 23,
   "id": "7b5d4459",
   "metadata": {},
   "outputs": [
    {
     "data": {
      "text/plain": [
       "{11, 22, 33, 44, 55, 66, 77}"
      ]
     },
     "execution_count": 23,
     "metadata": {},
     "output_type": "execute_result"
    }
   ],
   "source": [
    "x.foo({11,22,33},{44,55,66,77})"
   ]
  },
  {
   "cell_type": "code",
   "execution_count": 24,
   "id": "38731bc0",
   "metadata": {},
   "outputs": [
    {
     "data": {
      "text/plain": [
       "'PythonProgram'"
      ]
     },
     "execution_count": 24,
     "metadata": {},
     "output_type": "execute_result"
    }
   ],
   "source": [
    "x.foo('Python','Program')"
   ]
  },
  {
   "cell_type": "code",
   "execution_count": 25,
   "id": "bcc6bb91",
   "metadata": {},
   "outputs": [
    {
     "data": {
      "text/plain": [
       "3"
      ]
     },
     "execution_count": 25,
     "metadata": {},
     "output_type": "execute_result"
    }
   ],
   "source": [
    "x.foo(4,6,8)"
   ]
  },
  {
   "cell_type": "code",
   "execution_count": 26,
   "id": "5e2b263b",
   "metadata": {},
   "outputs": [
    {
     "data": {
      "text/plain": [
       "[44, 55, 66]"
      ]
     },
     "execution_count": 26,
     "metadata": {},
     "output_type": "execute_result"
    }
   ],
   "source": [
    "x.foo([4,5,6],[11,11,11])"
   ]
  },
  {
   "cell_type": "code",
   "execution_count": 27,
   "id": "7482bb09",
   "metadata": {},
   "outputs": [],
   "source": [
    "class Parent:\n",
    "    @dispatch(int, int)\n",
    "    def foo(self, a, b):\n",
    "        self.x = a*b\n",
    "        \n",
    "    @dispatch(str, str)\n",
    "    def __init__(self, fname, lname):\n",
    "        self.name = fname +' '+ lname\n",
    "        \n",
    "    @dispatch(int, int)\n",
    "    def foo(self, x, y):\n",
    "        return x * y\n",
    "    \n",
    "    @dispatch(set, set)\n",
    "    def foo(self, m, n):\n",
    "        return m.union(n)\n",
    "    \n",
    "    @dispatch(str, str)\n",
    "    def foo(self, m, n):\n",
    "        return m + n\n",
    "    \n",
    "    @dispatch(int, int, int)\n",
    "    def foo(self, x,y,z):\n",
    "        return (x*y)//z\n",
    "    \n",
    "    @dispatch(list, list)\n",
    "    def foo(self, x,y):\n",
    "        return [i*j for i,j in zip(x,y)]"
   ]
  },
  {
   "cell_type": "code",
   "execution_count": 28,
   "id": "31e2e88c",
   "metadata": {},
   "outputs": [],
   "source": [
    "class Child(Parent):\n",
    "    pass"
   ]
  },
  {
   "cell_type": "code",
   "execution_count": 29,
   "id": "2165955a",
   "metadata": {},
   "outputs": [],
   "source": [
    "x = Child('abc','xyz')"
   ]
  },
  {
   "cell_type": "code",
   "execution_count": 30,
   "id": "00e0ffdf",
   "metadata": {},
   "outputs": [
    {
     "data": {
      "text/plain": [
       "'abc xyz'"
      ]
     },
     "execution_count": 30,
     "metadata": {},
     "output_type": "execute_result"
    }
   ],
   "source": [
    "x.name"
   ]
  },
  {
   "cell_type": "markdown",
   "id": "358683e3",
   "metadata": {},
   "source": [
    "## Abstraction"
   ]
  },
  {
   "cell_type": "markdown",
   "id": "6f234a54",
   "metadata": {},
   "source": [
    "* An abstract class can be considered a blueprint for other classes.\n",
    "* It allows you to create a set of methods that must be created within any child classes built from the abstract class.\n",
    "* A class that contains one or more abstract methods is called an abstract class.\n",
    "* An abstract method is a method that has a declaration but does not have an implementation. While we are designing large functional units we use an abstract class. When we want to provide a common interface for different implementations of a component, we use an abstract class. "
   ]
  },
  {
   "cell_type": "code",
   "execution_count": 31,
   "id": "08a71044",
   "metadata": {},
   "outputs": [],
   "source": [
    "import abc\n",
    "from abc import abstractmethod, ABC"
   ]
  },
  {
   "cell_type": "code",
   "execution_count": 32,
   "id": "2a2e8b54",
   "metadata": {},
   "outputs": [],
   "source": [
    "class Ben10(ABC):\n",
    "    \n",
    "    @abstractmethod\n",
    "    def omniTransformation(self):\n",
    "        '''Yo!'''\n",
    "        pass"
   ]
  },
  {
   "cell_type": "code",
   "execution_count": 33,
   "id": "62671a1d",
   "metadata": {},
   "outputs": [],
   "source": [
    "class DiamondHead(Ben10):\n",
    "    \n",
    "    def omniTransformation(self):\n",
    "        '''DiamondHead!'''\n",
    "        print('DiamondHead Transformation Done!')"
   ]
  },
  {
   "cell_type": "code",
   "execution_count": 34,
   "id": "a799f463",
   "metadata": {},
   "outputs": [],
   "source": [
    "x = DiamondHead()"
   ]
  },
  {
   "cell_type": "code",
   "execution_count": 35,
   "id": "d53f7c33",
   "metadata": {},
   "outputs": [
    {
     "name": "stdout",
     "output_type": "stream",
     "text": [
      "DiamondHead Transformation Done!\n"
     ]
    }
   ],
   "source": [
    "x.omniTransformation()"
   ]
  },
  {
   "cell_type": "markdown",
   "id": "b5efe00f",
   "metadata": {},
   "source": [
    "### Duck Typing"
   ]
  },
  {
   "cell_type": "markdown",
   "id": "4e38141a",
   "metadata": {},
   "source": [
    "* Duck Typing is a term commonly related to dynamically typed programming languages and polymorphism. The idea behind this principle is that the code itself does not care about whether an object is a duck, but instead it does only care about whether it quacks."
   ]
  },
  {
   "cell_type": "code",
   "execution_count": 36,
   "id": "55092e8c",
   "metadata": {},
   "outputs": [],
   "source": [
    "class Duck:\n",
    "    def quack(self):\n",
    "        print('quaack!')\n",
    "    def fly(self):\n",
    "        print('Flap-Flap!')\n",
    "        \n",
    "class DogDuck:\n",
    "    def quack(self):\n",
    "        print('Bowuaack!')\n",
    "    def fly(self):\n",
    "        print('zoommm')"
   ]
  },
  {
   "cell_type": "code",
   "execution_count": 37,
   "id": "67e94fb1",
   "metadata": {},
   "outputs": [],
   "source": [
    "def foo(x : Duck):\n",
    "    x.quack()"
   ]
  },
  {
   "cell_type": "code",
   "execution_count": 38,
   "id": "6f086762",
   "metadata": {},
   "outputs": [],
   "source": [
    "a,b = Duck(), DogDuck()"
   ]
  },
  {
   "cell_type": "code",
   "execution_count": 39,
   "id": "245f6d5c",
   "metadata": {},
   "outputs": [
    {
     "name": "stdout",
     "output_type": "stream",
     "text": [
      "quaack!\n"
     ]
    }
   ],
   "source": [
    "foo(a)"
   ]
  },
  {
   "cell_type": "code",
   "execution_count": 40,
   "id": "ee5867d1",
   "metadata": {},
   "outputs": [
    {
     "name": "stdout",
     "output_type": "stream",
     "text": [
      "Bowuaack!\n"
     ]
    }
   ],
   "source": [
    "foo(b)"
   ]
  },
  {
   "cell_type": "code",
   "execution_count": null,
   "id": "0c1621fb",
   "metadata": {},
   "outputs": [],
   "source": []
  }
 ],
 "metadata": {
  "kernelspec": {
   "display_name": "Python 3 (ipykernel)",
   "language": "python",
   "name": "python3"
  },
  "language_info": {
   "codemirror_mode": {
    "name": "ipython",
    "version": 3
   },
   "file_extension": ".py",
   "mimetype": "text/x-python",
   "name": "python",
   "nbconvert_exporter": "python",
   "pygments_lexer": "ipython3",
   "version": "3.11.5"
  }
 },
 "nbformat": 4,
 "nbformat_minor": 5
}
